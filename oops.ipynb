{
 "cells": [
  {
   "cell_type": "markdown",
   "metadata": {},
   "source": [
    "# OOPS in A Python"
   ]
  },
  {
   "cell_type": "code",
   "execution_count": 1,
   "metadata": {},
   "outputs": [
    {
     "name": "stdout",
     "output_type": "stream",
     "text": [
      "<__main__.person object at 0x7fed50c2c250>\n",
      "<class '__main__.person'>\n"
     ]
    }
   ],
   "source": [
    "class person():\n",
    "    pass\n",
    "\n",
    "p = person()\n",
    "\n",
    "\n",
    "print(p)\n",
    "print(type(p))"
   ]
  },
  {
   "cell_type": "code",
   "execution_count": 2,
   "metadata": {},
   "outputs": [],
   "source": [
    "class nit():\n",
    "    def sayhello(self):\n",
    "        print(\"hello\")"
   ]
  },
  {
   "cell_type": "code",
   "execution_count": 3,
   "metadata": {},
   "outputs": [],
   "source": [
    "p = nit()"
   ]
  },
  {
   "cell_type": "code",
   "execution_count": 4,
   "metadata": {},
   "outputs": [
    {
     "name": "stdout",
     "output_type": "stream",
     "text": [
      "hello\n"
     ]
    }
   ],
   "source": [
    "p.sayhello()"
   ]
  },
  {
   "cell_type": "code",
   "execution_count": 5,
   "metadata": {},
   "outputs": [],
   "source": [
    "class nit():\n",
    "    def sayhello(self,name):\n",
    "        print(\"hello \" +name)"
   ]
  },
  {
   "cell_type": "code",
   "execution_count": 6,
   "metadata": {},
   "outputs": [],
   "source": [
    "p = nit()"
   ]
  },
  {
   "cell_type": "code",
   "execution_count": 7,
   "metadata": {},
   "outputs": [
    {
     "name": "stdout",
     "output_type": "stream",
     "text": [
      "hello nitin\n"
     ]
    }
   ],
   "source": [
    "p.sayhello(\"nitin\")"
   ]
  },
  {
   "cell_type": "code",
   "execution_count": 8,
   "metadata": {},
   "outputs": [],
   "source": [
    "class nitin():\n",
    "    def __init__(self,pname,addres):\n",
    "        self.name = pname\n",
    "        self.addres = addres\n",
    "        \n",
    "    def sayhello(self, name):\n",
    "        print(\"Hello \"+name)\n",
    "        \n",
    "    def con(self):\n",
    "        print(\"my name is \",self.name)\n",
    "        print(\"my address is \",self.addres)"
   ]
  },
  {
   "cell_type": "code",
   "execution_count": 9,
   "metadata": {},
   "outputs": [],
   "source": [
    "p = nitin(\"nitin\",\"dwarka\")\n"
   ]
  },
  {
   "cell_type": "code",
   "execution_count": 10,
   "metadata": {},
   "outputs": [
    {
     "name": "stdout",
     "output_type": "stream",
     "text": [
      "Hello nitin\n"
     ]
    }
   ],
   "source": [
    "p.sayhello(\"nitin\")\n"
   ]
  },
  {
   "cell_type": "code",
   "execution_count": 11,
   "metadata": {},
   "outputs": [
    {
     "name": "stdout",
     "output_type": "stream",
     "text": [
      "my name is  nitin\n",
      "my address is  dwarka\n"
     ]
    }
   ],
   "source": [
    "p.con()"
   ]
  },
  {
   "cell_type": "code",
   "execution_count": 12,
   "metadata": {},
   "outputs": [],
   "source": [
    "p2 = nitin(\"nilesh\",\"mayaur vihar\")"
   ]
  },
  {
   "cell_type": "code",
   "execution_count": 13,
   "metadata": {},
   "outputs": [
    {
     "name": "stdout",
     "output_type": "stream",
     "text": [
      "my name is  nilesh\n",
      "my address is  mayaur vihar\n"
     ]
    }
   ],
   "source": [
    "p2.con()"
   ]
  },
  {
   "cell_type": "code",
   "execution_count": 14,
   "metadata": {},
   "outputs": [],
   "source": [
    "class dog():\n",
    "    \n",
    "    color = \"red\"\n",
    "    activity = []\n",
    "    \n",
    "    def __init__ (self,breed):\n",
    "        self.breed = breed\n",
    "        \n",
    "        \n",
    "    def addactivity(self,act):\n",
    "        self.activity.append(act)\n",
    "        \n",
    "    def doactivity(self):\n",
    "        print(self.breed)\n",
    "        print(self.activity)"
   ]
  },
  {
   "cell_type": "code",
   "execution_count": 15,
   "metadata": {},
   "outputs": [],
   "source": [
    "d1 = dog(\"german\")\n",
    "d2 = dog(\"hilliii\")\n",
    "\n",
    "d1.addactivity(\"high jump\")\n",
    "d1.addactivity(\"hilla raha hai\")\n",
    "\n",
    "d2.addactivity(\"mar gaya\")\n",
    "d2.addactivity(\"soo gaya\")\n",
    "\n"
   ]
  },
  {
   "cell_type": "code",
   "execution_count": 16,
   "metadata": {},
   "outputs": [
    {
     "name": "stdout",
     "output_type": "stream",
     "text": [
      "german\n",
      "['high jump', 'hilla raha hai', 'mar gaya', 'soo gaya']\n",
      "hilliii\n",
      "['high jump', 'hilla raha hai', 'mar gaya', 'soo gaya']\n"
     ]
    }
   ],
   "source": [
    "d1.doactivity()\n",
    "d2.doactivity()"
   ]
  },
  {
   "cell_type": "code",
   "execution_count": 17,
   "metadata": {},
   "outputs": [],
   "source": [
    "class dog():\n",
    "    \n",
    "    color = \"red\"\n",
    "   \n",
    "    \n",
    "    def __init__ (self,breed):\n",
    "        self. activity = []\n",
    "        self.breed = breed\n",
    "        \n",
    "        \n",
    "    def addactivity(self,act):\n",
    "        self.activity.append(act)\n",
    "        \n",
    "    def doactivity(self):\n",
    "        print(self.breed)\n",
    "        print(self.activity)"
   ]
  },
  {
   "cell_type": "code",
   "execution_count": 18,
   "metadata": {},
   "outputs": [],
   "source": [
    "d1 = dog(\"german\")\n",
    "d2 = dog(\"hilliii\")\n",
    "\n",
    "d1.addactivity(\"high jump\")\n",
    "d1.addactivity(\"hilla raha hai\")\n",
    "\n",
    "d2.addactivity(\"mar gaya\")\n",
    "d2.addactivity(\"soo gaya\")\n",
    "\n"
   ]
  },
  {
   "cell_type": "code",
   "execution_count": 19,
   "metadata": {},
   "outputs": [
    {
     "name": "stdout",
     "output_type": "stream",
     "text": [
      "german\n",
      "['high jump', 'hilla raha hai']\n",
      "hilliii\n",
      "['mar gaya', 'soo gaya']\n"
     ]
    }
   ],
   "source": [
    "d1.doactivity()\n",
    "d2.doactivity()"
   ]
  },
  {
   "cell_type": "code",
   "execution_count": 24,
   "metadata": {},
   "outputs": [],
   "source": [
    "\n",
    "class school_memeber():\n",
    "    def __init__(self,name,age):\n",
    "        self.name = name\n",
    "        self.age = age\n",
    "        print(\"init school member %s\" %self.name)\n",
    "\n",
    "    def introduce(self):\n",
    "        print(\"Name : %s Age : %d\" %(self.name,self.age))\n",
    "\n",
    "\n",
    "\n",
    "\n",
    "class teacher(school_memeber):\n",
    "    def __init__(self,name,age,salary):\n",
    "        school_memeber.__init__(self,name,age)\n",
    "\n",
    "        self.salary = salary\n",
    "\n",
    "        print(\"init teacher %s\" %self.name)\n",
    "\n",
    "    def introduce(self):\n",
    "        school_memeber.introduce(self)\n",
    "        print(\"salary %d\" %self.salary)\n",
    "        \n",
    "        \n",
    "class student(school_memeber):\n",
    "    def __init__(self,name,age,rollno):\n",
    "        school_memeber.__init__(self,name,age)\n",
    "        self.rollno = rollno\n",
    "        \n",
    "        print(\"init student %s\" %self.name)\n",
    "        \n",
    "        \n",
    "    def introduce(self):\n",
    "        school_memeber.introduce(self)\n",
    "        print(\"roll no %d\" %self.rollno)\n",
    "    \n",
    "    \n",
    "        "
   ]
  },
  {
   "cell_type": "code",
   "execution_count": 25,
   "metadata": {},
   "outputs": [
    {
     "name": "stdout",
     "output_type": "stream",
     "text": [
      "init school member nitin\n"
     ]
    }
   ],
   "source": [
    "p = school_memeber(\"nitin\",24)"
   ]
  },
  {
   "cell_type": "code",
   "execution_count": 26,
   "metadata": {},
   "outputs": [
    {
     "name": "stdout",
     "output_type": "stream",
     "text": [
      "Name : nitin Age : 24\n"
     ]
    }
   ],
   "source": [
    "p.introduce()"
   ]
  },
  {
   "cell_type": "code",
   "execution_count": 27,
   "metadata": {},
   "outputs": [
    {
     "name": "stdout",
     "output_type": "stream",
     "text": [
      "init school member nitin\n",
      "init teacher nitin\n"
     ]
    }
   ],
   "source": [
    "s= teacher(\"nitin\",24,54000)"
   ]
  },
  {
   "cell_type": "code",
   "execution_count": 28,
   "metadata": {},
   "outputs": [
    {
     "name": "stdout",
     "output_type": "stream",
     "text": [
      "Name : nitin Age : 24\n",
      "salary 54000\n"
     ]
    }
   ],
   "source": [
    "s.introduce()"
   ]
  },
  {
   "cell_type": "code",
   "execution_count": 29,
   "metadata": {},
   "outputs": [
    {
     "name": "stdout",
     "output_type": "stream",
     "text": [
      "init school member nitin\n",
      "init student nitin\n"
     ]
    }
   ],
   "source": [
    "t = student(\"nitin\",24,1)\n"
   ]
  },
  {
   "cell_type": "code",
   "execution_count": 30,
   "metadata": {},
   "outputs": [
    {
     "name": "stdout",
     "output_type": "stream",
     "text": [
      "Name : nitin Age : 24\n",
      "roll no 1\n"
     ]
    }
   ],
   "source": [
    "t.introduce()"
   ]
  },
  {
   "cell_type": "code",
   "execution_count": null,
   "metadata": {},
   "outputs": [],
   "source": []
  }
 ],
 "metadata": {
  "kernelspec": {
   "display_name": "Python 3",
   "language": "python",
   "name": "python3"
  },
  "language_info": {
   "codemirror_mode": {
    "name": "ipython",
    "version": 3
   },
   "file_extension": ".py",
   "mimetype": "text/x-python",
   "name": "python",
   "nbconvert_exporter": "python",
   "pygments_lexer": "ipython3",
   "version": "3.7.5"
  }
 },
 "nbformat": 4,
 "nbformat_minor": 2
}
